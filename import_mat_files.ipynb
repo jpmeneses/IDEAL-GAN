{
 "cells": [
  {
   "cell_type": "code",
   "execution_count": 1,
   "id": "d193ff36",
   "metadata": {},
   "outputs": [],
   "source": [
    "import os\n",
    "import numpy as np\n",
    "import scipy.io as sio\n",
    "import tensorflow as tf"
   ]
  },
  {
   "cell_type": "code",
   "execution_count": null,
   "id": "e91323df",
   "metadata": {},
   "outputs": [],
   "source": [
    "file_dir = '../../OneDrive - Universidad Católica de Chile/Documents/MRI-Datasets/Anon_Attilio/001/'\n",
    "acq_file = '2D_NSA1_24S_2MM_IM_0017_ANON/2D_NSA1_24S_2MM.mat'\n",
    "mat = sio.loadmat(file_dir + acq_file)"
   ]
  },
  {
   "cell_type": "code",
   "execution_count": null,
   "id": "f52924bd",
   "metadata": {},
   "outputs": [],
   "source": [
    "acq = mat['imDataParams'][0,0][0].astype('complex64')\n",
    "TE = mat['imDataParams'][0,0][1].astype('float32')"
   ]
  },
  {
   "cell_type": "code",
   "execution_count": null,
   "id": "71df3f62",
   "metadata": {},
   "outputs": [],
   "source": [
    "TE.shape"
   ]
  },
  {
   "cell_type": "code",
   "execution_count": null,
   "id": "5d038b0d",
   "metadata": {},
   "outputs": [],
   "source": [
    "file_dir = '../../OneDrive - Universidad Católica de Chile/Documents/MRI-Datasets/Anon_Attilio/001/'\n",
    "out_file = 'results_MP_GC_IM_0017_ANON/2D_NSA1_24S_2MM_MP_GC.mat'\n",
    "out_mat = sio.loadmat(file_dir + out_file)"
   ]
  },
  {
   "cell_type": "code",
   "execution_count": null,
   "id": "66996d40",
   "metadata": {},
   "outputs": [],
   "source": [
    "print(out_mat.keys())\n",
    "out_wf = out_mat['R']\n",
    "out_r2 = out_mat['R2']\n",
    "out_fm = out_mat['P']"
   ]
  },
  {
   "cell_type": "code",
   "execution_count": null,
   "id": "95a5a71a",
   "metadata": {},
   "outputs": [],
   "source": [
    "out_wf.shape"
   ]
  },
  {
   "cell_type": "markdown",
   "id": "0cf59d78",
   "metadata": {},
   "source": [
    "## Create TFRecord file"
   ]
  },
  {
   "cell_type": "code",
   "execution_count": 2,
   "id": "53520b6e",
   "metadata": {},
   "outputs": [],
   "source": [
    "def _float_feature(value):\n",
    "    \"\"\"Returns a float_list from a float / double.\"\"\"\n",
    "    return tf.train.Feature(float_list=tf.train.FloatList(value=value))\n",
    "\n",
    "def _int64_feature(value):\n",
    "    \"\"\"Returns an int64_list from a bool / enum / int / uint.\"\"\"\n",
    "    return tf.train.Feature(int64_list=tf.train.Int64List(value=[value]))"
   ]
  },
  {
   "cell_type": "code",
   "execution_count": 3,
   "id": "76c5551d",
   "metadata": {},
   "outputs": [
    {
     "name": "stdout",
     "output_type": "stream",
     "text": [
      "Subject No. 001\n",
      "\tProcessing 2D_NSA1_24S_2MM_IM_0017_ANON\n",
      "\tProcessing results_MP_GC_IM_0017_ANON\n",
      "Subject No. 002\n",
      "\tProcessing 2D_NSA1_24S_2MM_IM_0017_ANON\n",
      "\tProcessing results_MP_GC_IM_0017_ANON\n",
      "Subject No. 003\n",
      "\tProcessing 2D_NSA1_24S_2MM_IM_0013_ANON\n",
      "\tProcessing results_MP_GC_IM_0013_ANON\n",
      "Subject No. 004\n",
      "\tProcessing 2D_NSA1_24S_2MM_IM_0010_ANON\n",
      "\tProcessing results_MP_GC_IM_0010_ANON\n",
      "Subject No. 005\n",
      "\tProcessing 2D_NSA1_24S_2MM_IM_0010_ANON\n",
      "\tProcessing results_MP_GC_IM_0010_ANON\n",
      "Subject No. 006\n",
      "\tProcessing 2D_NSA1_24S_2MM_IM_0007_ANON\n",
      "\tProcessing results_MP_GC_IM_0007_ANON\n",
      "Subject No. 007\n",
      "\tProcessing 2D_NSA1_24S_2MM_IM_0010_ANON\n",
      "\tProcessing results_MP_GC_IM_0010_ANON\n",
      "Subject No. 008\n",
      "\tProcessing 2D_NSA1_24S_2MM_IM_0007_ANON\n",
      "\tProcessing results_MP_GC_IM_0007_ANON\n",
      "Subject No. 009\n",
      "\tProcessing 2D_NSA1_24S_2MM_IM_0010_ANON\n",
      "\tProcessing results_MP_GC_IM_0010_ANON\n"
     ]
    }
   ],
   "source": [
    "file_dir = '../../OneDrive - Universidad Católica de Chile/Documents/MRI-Datasets/Anon_Attilio/'\n",
    "recordPath = \"tfrecord/\"\n",
    "writer = tf.io.TFRecordWriter(recordPath + 'TFR-Attilio')\n",
    "\n",
    "keys = [(\"%03d\" % i) for i in list(range(1,10))]\n",
    "values = [i for i in list(range(10))]\n",
    "classes = dict(zip(keys, values))\n",
    "\n",
    "for name, label in classes.items():\n",
    "    print('Subject No. ' + name)\n",
    "    subj_path = os.path.join(file_dir, name)\n",
    "    for file_name in os.listdir(subj_path):\n",
    "        if '2D_' in file_name:\n",
    "            print('\\t' + 'Processing ' + file_name)\n",
    "            img_path = os.path.join(subj_path, file_name)\n",
    "            img_path = os.path.join(img_path, os.listdir(img_path)[0])\n",
    "            img_mat = sio.loadmat(img_path)\n",
    "            acq = img_mat['imDataParams'][0,0][0].astype('complex64')\n",
    "            TE = img_mat['imDataParams'][0,0][1].astype('float32')\n",
    "            acq_real = np.real(acq)\n",
    "            acq_imag = np.imag(acq)\n",
    "            example = tf.train.Example(features=tf.train.Features(feature={\n",
    "                'acq_real': _float_feature(acq_real.flatten()),\n",
    "                'acq_imag': _float_feature(acq_imag.flatten()),\n",
    "                'te': _float_feature(TE.flatten()),\n",
    "                'height': _int64_feature(acq.shape[0]),\n",
    "                'width': _int64_feature(acq.shape[1]),\n",
    "                'num_slices': _int64_feature(acq.shape[2]),\n",
    "                'num_echoes': _int64_feature(acq.shape[4])}))\n",
    "            writer.write(example.SerializeToString())\n",
    "        if 'results_' in file_name:\n",
    "            print('\\t' + 'Processing ' + file_name)\n",
    "            out_path = os.path.join(subj_path, file_name)\n",
    "            out_path = os.path.join(out_path, os.listdir(out_path)[0])\n",
    "            out_mat = sio.loadmat(out_path)\n",
    "            wf = out_mat['R'].astype('complex64')\n",
    "            wf_real = np.real(wf)\n",
    "            wf_imag = np.imag(wf)\n",
    "            r2 = out_mat['R2'].astype('float32')\n",
    "            fm = out_mat['P'].astype('float32')\n",
    "            example = tf.train.Example(features=tf.train.Features(feature={\n",
    "                \"wf_real\": _float_feature(wf_real.flatten()),\n",
    "                \"wf_imag\": _float_feature(wf_imag.flatten()),\n",
    "                \"r2\": _float_feature(r2.flatten()),\n",
    "                \"fm\": _float_feature(fm.flatten()),\n",
    "                'height': _int64_feature(wf.shape[0]),\n",
    "                'width': _int64_feature(wf.shape[1]),\n",
    "                'num_slices': _int64_feature(wf.shape[2]),\n",
    "                'num_specie': _int64_feature(wf.shape[3])}))\n",
    "            writer.write(example.SerializeToString())\n",
    "writer.close()"
   ]
  },
  {
   "cell_type": "markdown",
   "id": "34771e4e",
   "metadata": {},
   "source": [
    "## Load images from TFRecord"
   ]
  },
  {
   "cell_type": "code",
   "execution_count": null,
   "id": "ad46c5af",
   "metadata": {},
   "outputs": [],
   "source": []
  }
 ],
 "metadata": {
  "kernelspec": {
   "display_name": "Python 3 (ipykernel)",
   "language": "python",
   "name": "python3"
  },
  "language_info": {
   "codemirror_mode": {
    "name": "ipython",
    "version": 3
   },
   "file_extension": ".py",
   "mimetype": "text/x-python",
   "name": "python",
   "nbconvert_exporter": "python",
   "pygments_lexer": "ipython3",
   "version": "3.8.16"
  }
 },
 "nbformat": 4,
 "nbformat_minor": 5
}
