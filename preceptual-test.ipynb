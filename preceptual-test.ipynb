{
 "cells": [
  {
   "cell_type": "code",
   "execution_count": 1,
   "id": "d4f11bd0",
   "metadata": {},
   "outputs": [],
   "source": [
    "import random\n",
    "import numpy as np\n",
    "import matplotlib.pyplot as plt\n",
    "\n",
    "import tensorflow as tf\n",
    "import tensorflow.keras as keras\n",
    "import tf2lib as tl\n",
    "import tf2gan as gan\n",
    "import DLlib as dl\n",
    "import pylib as py\n",
    "import wflib as wf\n",
    "import data\n",
    "\n",
    "import itertools"
   ]
  },
  {
   "cell_type": "code",
   "execution_count": 2,
   "id": "67dfd7d6",
   "metadata": {},
   "outputs": [],
   "source": [
    "dataset_dir = '../../OneDrive - Universidad Católica de Chile/Documents/datasets/'\n",
    "dataset_hdf5_1 = 'JGalgani_GC_192_complex_2D.hdf5'\n",
    "acqs, out_maps = data.load_hdf5(dataset_dir,dataset_hdf5_1, 12, end=20, MEBCRN=True)"
   ]
  },
  {
   "cell_type": "code",
   "execution_count": 3,
   "id": "c183bd97",
   "metadata": {},
   "outputs": [],
   "source": [
    "len_dataset,ne,hgt,wdt,n_ch = np.shape(acqs)\n",
    "_,n_out,_,_,_ = np.shape(out_maps)"
   ]
  },
  {
   "cell_type": "code",
   "execution_count": 4,
   "id": "43120bf8",
   "metadata": {},
   "outputs": [],
   "source": [
    "metric_model = dl.perceptual_metric(input_shape=(1,hgt,wdt,n_ch))\n",
    "cosine_loss = tf.losses.CosineSimilarity()\n",
    "mse_loss = tf.losses.MeanSquaredError()\n",
    "mae_loss = tf.losses.MeanAbsoluteError()\n",
    "mmd_loss = dl.MMD()"
   ]
  },
  {
   "cell_type": "code",
   "execution_count": 5,
   "id": "c6d85350",
   "metadata": {},
   "outputs": [
    {
     "name": "stdout",
     "output_type": "stream",
     "text": [
      "Cosine loss of pair 0 1 --> -0.9130012\n",
      "Cosine loss of pair 0 2 --> -0.9223494\n",
      "Cosine loss of pair 0 3 --> -0.8985305\n",
      "Cosine loss of pair 0 4 --> -0.8720776\n",
      "Cosine loss of pair 0 5 --> -0.874866\n",
      "Cosine loss of pair 1 2 --> -0.90359807\n",
      "Cosine loss of pair 1 3 --> -0.9285376\n",
      "Cosine loss of pair 1 4 --> -0.8954591\n",
      "Cosine loss of pair 1 5 --> -0.8946016\n",
      "Cosine loss of pair 2 3 --> -0.8927279\n",
      "Cosine loss of pair 2 4 --> -0.926437\n",
      "Cosine loss of pair 2 5 --> -0.8910793\n",
      "Cosine loss of pair 3 4 --> -0.9239044\n",
      "Cosine loss of pair 3 5 --> -0.9587109\n",
      "Cosine loss of pair 4 5 --> -0.92042714\n"
     ]
    }
   ],
   "source": [
    "A = acqs[12:13]\n",
    "A_abs = tf.math.sqrt(tf.reduce_sum(tf.square(A),axis=-1,keepdims=True))\n",
    "idx_pairs = list(itertools.combinations(range(ne), 2))\n",
    "# np.random.shuffle(idx_pairs)\n",
    "for idx_a, idx_b in idx_pairs:\n",
    "    A_a = metric_model(A[:,idx_a:idx_a+1,:,:,:], training=False)\n",
    "    A_b = metric_model(A[:,idx_b:idx_b+1,:,:,:], training=False)\n",
    "    loss = cosine_loss(A_a[0], A_b[0])/len(A_a)\n",
    "    for l in range(1,len(A_a)):\n",
    "        loss += cosine_loss(A_a[l], A_b[l])/len(A_a)\n",
    "    print('Cosine loss of pair', idx_a, idx_b, '-->', loss.numpy())"
   ]
  },
  {
   "cell_type": "code",
   "execution_count": 6,
   "id": "60c1636c",
   "metadata": {},
   "outputs": [
    {
     "name": "stdout",
     "output_type": "stream",
     "text": [
      "MSE loss of pair 0 1 --> 0.004197146277874708\n",
      "MSE loss of pair 0 2 --> 0.006818694528192282\n",
      "MSE loss of pair 0 3 --> 0.02551659569144249\n",
      "MSE loss of pair 0 4 --> 0.028088195249438286\n",
      "MSE loss of pair 0 5 --> 0.03331875056028366\n",
      "MSE loss of pair 1 2 --> 0.0033280616626143456\n",
      "MSE loss of pair 1 3 --> 0.012029075063765049\n",
      "MSE loss of pair 1 4 --> 0.015812862664461136\n",
      "MSE loss of pair 1 5 --> 0.017871081829071045\n",
      "MSE loss of pair 2 3 --> 0.00979998242110014\n",
      "MSE loss of pair 2 4 --> 0.008977223187685013\n",
      "MSE loss of pair 2 5 --> 0.014361000619828701\n",
      "MSE loss of pair 3 4 --> 0.0034015143755823374\n",
      "MSE loss of pair 3 5 --> 0.001998116262257099\n",
      "MSE loss of pair 4 5 --> 0.004105175379663706\n"
     ]
    }
   ],
   "source": [
    "for idx_a, idx_b in idx_pairs:\n",
    "    loss = mse_loss(A_abs[:,idx_a:idx_a+1,:,:,:], A_abs[:,idx_b:idx_b+1,:,:,:])\n",
    "    print('MSE loss of pair', idx_a, idx_b, '-->', loss.numpy())"
   ]
  },
  {
   "cell_type": "code",
   "execution_count": 7,
   "id": "b86d0745",
   "metadata": {},
   "outputs": [
    {
     "name": "stdout",
     "output_type": "stream",
     "text": [
      "MAE loss of pair 0 1 --> 0.034382838755846024\n",
      "MAE loss of pair 0 2 --> 0.04408960044384003\n",
      "MAE loss of pair 0 3 --> 0.0939849242568016\n",
      "MAE loss of pair 0 4 --> 0.09534742683172226\n",
      "MAE loss of pair 0 5 --> 0.11112691462039948\n",
      "MAE loss of pair 1 2 --> 0.030117562040686607\n",
      "MAE loss of pair 1 3 --> 0.06340975314378738\n",
      "MAE loss of pair 1 4 --> 0.06700155138969421\n",
      "MAE loss of pair 1 5 --> 0.08028073608875275\n",
      "MAE loss of pair 2 3 --> 0.05350258946418762\n",
      "MAE loss of pair 2 4 --> 0.054196227341890335\n",
      "MAE loss of pair 2 5 --> 0.0699073076248169\n",
      "MAE loss of pair 3 4 --> 0.029076602309942245\n",
      "MAE loss of pair 3 5 --> 0.0232064351439476\n",
      "MAE loss of pair 4 5 --> 0.03253031149506569\n"
     ]
    }
   ],
   "source": [
    "for idx_a, idx_b in idx_pairs:\n",
    "    loss = mae_loss(A_abs[:,idx_a:idx_a+1,:,:,:], A_abs[:,idx_b:idx_b+1,:,:,:])\n",
    "    print('MAE loss of pair', idx_a, idx_b, '-->', loss.numpy())"
   ]
  },
  {
   "cell_type": "code",
   "execution_count": 8,
   "id": "2bdb73af",
   "metadata": {},
   "outputs": [
    {
     "name": "stdout",
     "output_type": "stream",
     "text": [
      "MMD loss of pair 0 1 --> 0.0041971505\n",
      "MMD loss of pair 0 2 --> 0.006818682\n",
      "MMD loss of pair 0 3 --> 0.0255166\n",
      "MMD loss of pair 0 4 --> 0.028088182\n",
      "MMD loss of pair 0 5 --> 0.033318758\n",
      "MMD loss of pair 1 2 --> 0.0033280551\n",
      "MMD loss of pair 1 3 --> 0.012029067\n",
      "MMD loss of pair 1 4 --> 0.015812859\n",
      "MMD loss of pair 1 5 --> 0.017871082\n",
      "MMD loss of pair 2 3 --> 0.009799972\n",
      "MMD loss of pair 2 4 --> 0.008977219\n",
      "MMD loss of pair 2 5 --> 0.014360987\n",
      "MMD loss of pair 3 4 --> 0.0034015104\n",
      "MMD loss of pair 3 5 --> 0.001998119\n",
      "MMD loss of pair 4 5 --> 0.0041051805\n"
     ]
    }
   ],
   "source": [
    "for idx_a, idx_b in idx_pairs:\n",
    "    mmd_loss.reset_state()\n",
    "    loss = mmd_loss(A_abs[:,idx_a:idx_a+1,:,:,:], A_abs[:,idx_b:idx_b+1,:,:,:])\n",
    "    print('MMD loss of pair', idx_a, idx_b, '-->', loss.numpy())"
   ]
  },
  {
   "cell_type": "code",
   "execution_count": 13,
   "id": "32ca67a0",
   "metadata": {},
   "outputs": [
    {
     "data": {
      "text/plain": [
       "0.00041051806"
      ]
     },
     "execution_count": 13,
     "metadata": {},
     "output_type": "execute_result"
    }
   ],
   "source": [
    "loss /=10\n",
    "loss.numpy()"
   ]
  }
 ],
 "metadata": {
  "kernelspec": {
   "display_name": "Python 3 (ipykernel)",
   "language": "python",
   "name": "python3"
  },
  "language_info": {
   "codemirror_mode": {
    "name": "ipython",
    "version": 3
   },
   "file_extension": ".py",
   "mimetype": "text/x-python",
   "name": "python",
   "nbconvert_exporter": "python",
   "pygments_lexer": "ipython3",
   "version": "3.8.16"
  }
 },
 "nbformat": 4,
 "nbformat_minor": 5
}
